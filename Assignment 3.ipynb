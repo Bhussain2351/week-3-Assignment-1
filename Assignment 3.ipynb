{
 "cells": [
  {
   "cell_type": "code",
   "execution_count": 1,
   "id": "df60ee41-13b3-477d-af27-bfae566501ae",
   "metadata": {},
   "outputs": [],
   "source": [
    "# \"def\" keyword is used to create a function"
   ]
  },
  {
   "cell_type": "code",
   "execution_count": 3,
   "id": "947c65fd-f61d-4e03-b778-0c84ca6668e2",
   "metadata": {},
   "outputs": [],
   "source": [
    "l=[]\n",
    "for i in range(1,26,1):\n",
    "    if i % 2 !=0:\n",
    "        l.append(i)"
   ]
  },
  {
   "cell_type": "code",
   "execution_count": 4,
   "id": "cc07a87a-7f8c-458b-acb1-d57ba0cfae6e",
   "metadata": {},
   "outputs": [
    {
     "data": {
      "text/plain": [
       "[1, 3, 5, 7, 9, 11, 13, 15, 17, 19, 21, 23, 25]"
      ]
     },
     "execution_count": 4,
     "metadata": {},
     "output_type": "execute_result"
    }
   ],
   "source": [
    "l"
   ]
  },
  {
   "cell_type": "code",
   "execution_count": 5,
   "id": "348e793f-dec4-488b-a523-11c8b193acd9",
   "metadata": {},
   "outputs": [],
   "source": [
    "# \"*args\" is called positional arguments, it is used to pass multiple positional arguments in a function. it identifies by single asterisk(*).\n",
    "# It will be collected into a tuple inside the function.\n",
    "\n",
    "# \"**kwargs\" is stand for keyword arguments, it allows to pass multiple keyword arguments in a function in python.it identifies by double asterisk(**).\n",
    "# it will be collected into a dictionary inside the function."
   ]
  },
  {
   "cell_type": "code",
   "execution_count": 6,
   "id": "d13d138b-85eb-4e80-b835-58017f0f61e6",
   "metadata": {},
   "outputs": [],
   "source": [
    "def total(*num):\n",
    "    total=sum(num)\n",
    "    return total\n",
    "    "
   ]
  },
  {
   "cell_type": "code",
   "execution_count": 7,
   "id": "d3fd5710-9145-4e40-b42f-2e6d050f543d",
   "metadata": {},
   "outputs": [
    {
     "data": {
      "text/plain": [
       "15"
      ]
     },
     "execution_count": 7,
     "metadata": {},
     "output_type": "execute_result"
    }
   ],
   "source": [
    "total(1,2,3,4,5)"
   ]
  },
  {
   "cell_type": "code",
   "execution_count": 1,
   "id": "07a01da5-75fc-4da8-a093-52b9fd37b425",
   "metadata": {},
   "outputs": [],
   "source": [
    "def value(**kwargs):\n",
    "    return kwargs"
   ]
  },
  {
   "cell_type": "code",
   "execution_count": 2,
   "id": "f58ab61f-a135-4a51-b380-7464f7a5f8b8",
   "metadata": {},
   "outputs": [
    {
     "data": {
      "text/plain": [
       "{'a': 1, 'b': 2, 'c': 3, 'd': 4, 'e': 5}"
      ]
     },
     "execution_count": 2,
     "metadata": {},
     "output_type": "execute_result"
    }
   ],
   "source": [
    "value(a=1,b=2,c=3,d=4,e=5)"
   ]
  },
  {
   "cell_type": "code",
   "execution_count": 3,
   "id": "c3185e65-d48b-47da-a766-f5865589352b",
   "metadata": {},
   "outputs": [],
   "source": [
    "# An iterator is an object that allows iteration over collections of data,such as lists,tuples,dictionaries and sets."
   ]
  },
  {
   "cell_type": "code",
   "execution_count": 4,
   "id": "a74c9b47-622e-4f96-a06c-bb32496ef570",
   "metadata": {},
   "outputs": [],
   "source": [
    "# Iterators object is initialized using the function iter(). \n",
    "# it uses next() method for iteration."
   ]
  },
  {
   "cell_type": "code",
   "execution_count": 5,
   "id": "c80c6821-c0fb-4392-877d-2ed0edc81bbd",
   "metadata": {},
   "outputs": [],
   "source": [
    "Number=[2,4,6,8,10,12,14,16,18,20]"
   ]
  },
  {
   "cell_type": "code",
   "execution_count": 14,
   "id": "b342fcce-ae87-4d22-a855-d1618a3db55d",
   "metadata": {},
   "outputs": [],
   "source": [
    "It=iter(Number)"
   ]
  },
  {
   "cell_type": "code",
   "execution_count": 15,
   "id": "34e3f1b6-5d6e-421c-aba8-9ae4b6e2c133",
   "metadata": {},
   "outputs": [
    {
     "name": "stdout",
     "output_type": "stream",
     "text": [
      "2\n",
      "4\n",
      "6\n",
      "8\n",
      "10\n"
     ]
    }
   ],
   "source": [
    "print(next(It))\n",
    "print(next(It))\n",
    "print(next(It))\n",
    "print(next(It))\n",
    "print(next(It))     "
   ]
  },
  {
   "cell_type": "code",
   "execution_count": 17,
   "id": "ab46bf2b-4fcb-4407-878c-67cbfba57706",
   "metadata": {},
   "outputs": [],
   "source": [
    "# A generator is a special type of function which does not return a single value, it returns an iterator object with a \n",
    "# sequence of value"
   ]
  },
  {
   "cell_type": "code",
   "execution_count": 18,
   "id": "0f587eb8-9c64-444d-b731-e3ff75763ded",
   "metadata": {},
   "outputs": [],
   "source": [
    "# \"Yield\" is a reserve keyword which allow a function to produce a sequence of result over a time , rather than \n",
    "# calculating them at all once and returning them in a list"
   ]
  },
  {
   "cell_type": "code",
   "execution_count": 2,
   "id": "01e89b2a-5f42-481b-8f91-cfd3a7bfd3a3",
   "metadata": {},
   "outputs": [],
   "source": [
    "def generator_name(arg):\n",
    "    # statements\n",
    "    yield something\n",
    "    \n",
    "    "
   ]
  },
  {
   "cell_type": "code",
   "execution_count": null,
   "id": "f3d5fde7-b488-41cb-a66e-94f4b4d0f21b",
   "metadata": {},
   "outputs": [],
   "source": []
  },
  {
   "cell_type": "code",
   "execution_count": 3,
   "id": "dae4c052-27db-40d9-aa8c-6ba7e081bb51",
   "metadata": {},
   "outputs": [
    {
     "name": "stdout",
     "output_type": "stream",
     "text": [
      "1\n",
      "1\n",
      "2\n",
      "3\n",
      "5\n",
      "8\n",
      "13\n",
      "21\n",
      "34\n",
      "55\n"
     ]
    }
   ],
   "source": [
    "a,b=0,1\n",
    "while b<=55:\n",
    "    print(b)\n",
    "    a,b=b,b+a"
   ]
  },
  {
   "cell_type": "code",
   "execution_count": 11,
   "id": "29c84579-0c6a-4d89-bbcf-d45441e7f970",
   "metadata": {},
   "outputs": [],
   "source": [
    "l=\"pwskills\""
   ]
  },
  {
   "cell_type": "code",
   "execution_count": 12,
   "id": "1ddf8e72-547f-47dc-80ea-799e7cb44ef7",
   "metadata": {},
   "outputs": [
    {
     "data": {
      "text/plain": [
       "<str_iterator at 0x7f0bf9da0190>"
      ]
     },
     "execution_count": 12,
     "metadata": {},
     "output_type": "execute_result"
    }
   ],
   "source": [
    "iter(l)"
   ]
  },
  {
   "cell_type": "code",
   "execution_count": 13,
   "id": "d6da2eb5-820a-4c80-a2d0-8a7cb78050f3",
   "metadata": {},
   "outputs": [],
   "source": [
    "c=iter(l)"
   ]
  },
  {
   "cell_type": "code",
   "execution_count": 14,
   "id": "52f021b6-a571-47b8-9810-bf347a637177",
   "metadata": {},
   "outputs": [
    {
     "name": "stdout",
     "output_type": "stream",
     "text": [
      "['p', 'w', 's', 'k', 'i', 'l', 'l', 's']\n"
     ]
    }
   ],
   "source": [
    "print(list(c))"
   ]
  },
  {
   "cell_type": "code",
   "execution_count": 3,
   "id": "d8d98e34-2b9c-4089-ba18-1a9c12f81e9d",
   "metadata": {},
   "outputs": [
    {
     "name": "stdin",
     "output_type": "stream",
     "text": [
      "Enter the words or Value:  madam\n"
     ]
    },
    {
     "name": "stdout",
     "output_type": "stream",
     "text": [
      "Yes, it is a palindrome\n"
     ]
    }
   ],
   "source": [
    "A=input(\"Enter the words or Value: \")\n",
    "reverse=A[::-1]\n",
    "if A==reverse:\n",
    "    print(\"Yes, it is a palindrome\")\n",
    "else:\n",
    "    print(\"No, it is not a palindrome\")\n"
   ]
  },
  {
   "cell_type": "code",
   "execution_count": 4,
   "id": "d2fa26c0-59f7-4870-bee1-4a413691a8ce",
   "metadata": {},
   "outputs": [],
   "source": [
    "L1=[]\n",
    "for i in range(1,101,1):\n",
    "    L1.append(i)"
   ]
  },
  {
   "cell_type": "code",
   "execution_count": 5,
   "id": "fab4255c-1437-43cc-8588-7b03b9ef058f",
   "metadata": {},
   "outputs": [
    {
     "data": {
      "text/plain": [
       "[1,\n",
       " 2,\n",
       " 3,\n",
       " 4,\n",
       " 5,\n",
       " 6,\n",
       " 7,\n",
       " 8,\n",
       " 9,\n",
       " 10,\n",
       " 11,\n",
       " 12,\n",
       " 13,\n",
       " 14,\n",
       " 15,\n",
       " 16,\n",
       " 17,\n",
       " 18,\n",
       " 19,\n",
       " 20,\n",
       " 21,\n",
       " 22,\n",
       " 23,\n",
       " 24,\n",
       " 25,\n",
       " 26,\n",
       " 27,\n",
       " 28,\n",
       " 29,\n",
       " 30,\n",
       " 31,\n",
       " 32,\n",
       " 33,\n",
       " 34,\n",
       " 35,\n",
       " 36,\n",
       " 37,\n",
       " 38,\n",
       " 39,\n",
       " 40,\n",
       " 41,\n",
       " 42,\n",
       " 43,\n",
       " 44,\n",
       " 45,\n",
       " 46,\n",
       " 47,\n",
       " 48,\n",
       " 49,\n",
       " 50,\n",
       " 51,\n",
       " 52,\n",
       " 53,\n",
       " 54,\n",
       " 55,\n",
       " 56,\n",
       " 57,\n",
       " 58,\n",
       " 59,\n",
       " 60,\n",
       " 61,\n",
       " 62,\n",
       " 63,\n",
       " 64,\n",
       " 65,\n",
       " 66,\n",
       " 67,\n",
       " 68,\n",
       " 69,\n",
       " 70,\n",
       " 71,\n",
       " 72,\n",
       " 73,\n",
       " 74,\n",
       " 75,\n",
       " 76,\n",
       " 77,\n",
       " 78,\n",
       " 79,\n",
       " 80,\n",
       " 81,\n",
       " 82,\n",
       " 83,\n",
       " 84,\n",
       " 85,\n",
       " 86,\n",
       " 87,\n",
       " 88,\n",
       " 89,\n",
       " 90,\n",
       " 91,\n",
       " 92,\n",
       " 93,\n",
       " 94,\n",
       " 95,\n",
       " 96,\n",
       " 97,\n",
       " 98,\n",
       " 99,\n",
       " 100]"
      ]
     },
     "execution_count": 5,
     "metadata": {},
     "output_type": "execute_result"
    }
   ],
   "source": [
    "L1"
   ]
  },
  {
   "cell_type": "code",
   "execution_count": null,
   "id": "37752dc1-bb3d-4784-9cd0-02444be1888c",
   "metadata": {},
   "outputs": [],
   "source": []
  }
 ],
 "metadata": {
  "kernelspec": {
   "display_name": "Python 3 (ipykernel)",
   "language": "python",
   "name": "python3"
  },
  "language_info": {
   "codemirror_mode": {
    "name": "ipython",
    "version": 3
   },
   "file_extension": ".py",
   "mimetype": "text/x-python",
   "name": "python",
   "nbconvert_exporter": "python",
   "pygments_lexer": "ipython3",
   "version": "3.10.8"
  }
 },
 "nbformat": 4,
 "nbformat_minor": 5
}
